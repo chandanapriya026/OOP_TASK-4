{
  "nbformat": 4,
  "nbformat_minor": 0,
  "metadata": {
    "colab": {
      "name": "OOP_TASK-4.ipynb",
      "provenance": [],
      "collapsed_sections": []
    },
    "kernelspec": {
      "name": "python3",
      "display_name": "Python 3"
    },
    "language_info": {
      "name": "python"
    }
  },
  "cells": [
    {
      "cell_type": "code",
      "metadata": {
        "colab": {
          "base_uri": "https://localhost:8080/"
        },
        "id": "cLdzrm4HaTy4",
        "outputId": "6fbd6409-957f-4b09-b7b0-481e57370338"
      },
      "source": [
        "class Node:\n",
        "    def __init__(self, data):\n",
        "        self.data = data\n",
        "        self.next = None\n",
        "    \n",
        "    \n",
        "class Stack(Node):\n",
        "    def __init__(self):\n",
        "        self.head = Node(None)\n",
        "        self.size = 0\n",
        "\n",
        "    def isEmpty(self):\n",
        "        return self.size == 0\n",
        "\n",
        "    def push(self, data):\n",
        "        temp = Node(data)\n",
        "        temp.next = self.head.next\n",
        "        self.head.next = temp\n",
        "        self.size += 1\n",
        "    \n",
        "    def pop(self):\n",
        "        if self.isEmpty():\n",
        "            print(\"Stack Empty\")\n",
        "        delete = self.head.next\n",
        "        self.head.next = self.head.next.next\n",
        "        self.size -= 1\n",
        "        return delete.data\n",
        "\n",
        "    def displayStack(self):\n",
        "        iter = self.head.next\n",
        "        print(\"Stack : \", end=\"\")\n",
        "        while iter:\n",
        "            print(iter.data, end=\" \")\n",
        "            iter = iter.next\n",
        "        print()\n",
        "\n",
        "    def __del__(self):\n",
        "        if not self.isEmpty():\n",
        "            iter = self.head\n",
        "            while iter:\n",
        "                temp = iter.next\n",
        "                del iter\n",
        "                self.size -= 1\n",
        "                iter = temp              \n",
        "\n",
        "s = Stack()\n",
        "print(s.isEmpty())\n",
        "for i in range(1, 6):\n",
        "    s.push(i)\n",
        "print(s.isEmpty())\n",
        "s.displayStack()\n",
        "\n",
        "for i in range(1, 3):\n",
        "    delete = s.pop()\n",
        "    print(f\"Popped element : {delete}\")\n",
        "\n",
        "s.displayStack()"
      ],
      "execution_count": 38,
      "outputs": [
        {
          "output_type": "stream",
          "name": "stdout",
          "text": [
            "True\n",
            "False\n",
            "Stack : 5 4 3 2 1 \n",
            "Popped element : 5\n",
            "Popped element : 4\n",
            "Stack : 3 2 1 \n"
          ]
        }
      ]
    },
    {
      "cell_type": "code",
      "metadata": {
        "colab": {
          "base_uri": "https://localhost:8080/"
        },
        "id": "LSAxg5Z6_RCj",
        "outputId": "9be61985-8f19-45ae-b83a-72a055ca02b9"
      },
      "source": [
        "class Rectangle():\n",
        "    def __init__(self, l, w):\n",
        "        self.length = l\n",
        "        self.width  = w\n",
        "\n",
        "    def rectangle_area(self):\n",
        "        return self.length*self.width\n",
        "\n",
        "newRectangle = Rectangle(6, 4)\n",
        "print(\"Area of the rectangle:\")\n",
        "print(newRectangle.rectangle_area())"
      ],
      "execution_count": 39,
      "outputs": [
        {
          "output_type": "stream",
          "name": "stdout",
          "text": [
            "Area of the rectangle:\n",
            "24\n"
          ]
        }
      ]
    },
    {
      "cell_type": "code",
      "metadata": {
        "colab": {
          "base_uri": "https://localhost:8080/"
        },
        "id": "h1TO4JB__RsJ",
        "outputId": "4aa11c4d-e4bf-469f-a31e-51ae1fb20289"
      },
      "source": [
        "class Queue:\n",
        "\n",
        "    def __init__(self):\n",
        "        self.queue = []\n",
        "\n",
        "    # Add an element\n",
        "    def enqueue(self, item):\n",
        "        self.queue.append(item)\n",
        "\n",
        "    # Remove an element\n",
        "    def dequeue(self):\n",
        "        if len(self.queue) < 1:\n",
        "            return None\n",
        "        return self.queue.pop(0)\n",
        "\n",
        "    # Display  the queue\n",
        "    def display(self):\n",
        "        print(self.queue)\n",
        "\n",
        "    def size(self):\n",
        "        return len(self.queue)\n",
        "\n",
        "\n",
        "q = Queue()\n",
        "q.enqueue(1)\n",
        "q.enqueue(2)\n",
        "q.enqueue(3)\n",
        "q.enqueue(4)\n",
        "q.enqueue(5)\n",
        "\n",
        "print(\"Elements in the queue:\")\n",
        "q.display()\n",
        "\n",
        "q.dequeue()\n",
        "q.dequeue()\n",
        "print(\"Elements after performing dequeue:\")\n",
        "q.display()"
      ],
      "execution_count": 41,
      "outputs": [
        {
          "output_type": "stream",
          "name": "stdout",
          "text": [
            "Elements in the queue:\n",
            "[1, 2, 3, 4, 5]\n",
            "Elements after performing dequeue:\n",
            "[3, 4, 5]\n"
          ]
        }
      ]
    }
  ]
}